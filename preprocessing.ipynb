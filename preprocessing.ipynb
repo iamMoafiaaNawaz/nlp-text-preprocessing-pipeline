{
  "cells": [
    {
      "cell_type": "markdown",
      "id": "fcef45b2",
      "metadata": {
        "id": "fcef45b2"
      },
      "source": [
        "# Step 1: Load Dataset\n",
        "What: Loads the CSV data into a pandas DataFrame.\n",
        "\n",
        "Why: This is the starting point for all further data processing.\n",
        "\n",
        "Why not any other: Loading data via pandas is fast and widely used in data science.\n"
      ]
    },
    {
      "cell_type": "code",
      "execution_count": null,
      "id": "LkSTPyrKjrNl",
      "metadata": {
        "colab": {
          "base_uri": "https://localhost:8080/"
        },
        "id": "LkSTPyrKjrNl",
        "outputId": "0db79098-9300-4db7-d87a-10bdeb4da629"
      },
      "outputs": [
        {
          "output_type": "stream",
          "name": "stdout",
          "text": [
            "Requirement already satisfied: nltk in /usr/local/lib/python3.11/dist-packages (3.9.1)\n",
            "Requirement already satisfied: click in /usr/local/lib/python3.11/dist-packages (from nltk) (8.1.8)\n",
            "Requirement already satisfied: joblib in /usr/local/lib/python3.11/dist-packages (from nltk) (1.4.2)\n",
            "Requirement already satisfied: regex>=2021.8.3 in /usr/local/lib/python3.11/dist-packages (from nltk) (2024.11.6)\n",
            "Requirement already satisfied: tqdm in /usr/local/lib/python3.11/dist-packages (from nltk) (4.67.1)\n",
            "Collecting pyspellchecker\n",
            "  Downloading pyspellchecker-0.8.2-py3-none-any.whl.metadata (9.4 kB)\n",
            "Downloading pyspellchecker-0.8.2-py3-none-any.whl (7.1 MB)\n",
            "\u001b[2K   \u001b[90m━━━━━━━━━━━━━━━━━━━━━━━━━━━━━━━━━━━━━━━━\u001b[0m \u001b[32m7.1/7.1 MB\u001b[0m \u001b[31m36.9 MB/s\u001b[0m eta \u001b[36m0:00:00\u001b[0m\n",
            "\u001b[?25hInstalling collected packages: pyspellchecker\n",
            "Successfully installed pyspellchecker-0.8.2\n"
          ]
        }
      ],
      "source": [
        "!pip install nltk\n",
        "!pip install pyspellchecker\n"
      ]
    },
    {
      "cell_type": "code",
      "execution_count": null,
      "id": "1ee744e7",
      "metadata": {
        "id": "1ee744e7"
      },
      "outputs": [],
      "source": [
        "import pandas as pd\n",
        "import string\n",
        "from nltk.corpus import stopwords\n",
        "from nltk.tokenize import word_tokenize\n",
        "from nltk.stem import WordNetLemmatizer\n",
        "from spellchecker import SpellChecker\n",
        "from sklearn.pipeline import Pipeline\n",
        "from sklearn.base import BaseEstimator, TransformerMixin\n"
      ]
    },
    {
      "cell_type": "code",
      "execution_count": null,
      "id": "dZTzzMB73aYN",
      "metadata": {
        "colab": {
          "base_uri": "https://localhost:8080/"
        },
        "id": "dZTzzMB73aYN",
        "outputId": "02a25efa-8aad-4c5d-e74d-1299719ccc98"
      },
      "outputs": [
        {
          "output_type": "stream",
          "name": "stdout",
          "text": [
            "Mounted at /content/drive\n"
          ]
        }
      ],
      "source": [
        "from google.colab import drive\n",
        "drive.mount('/content/drive')\n"
      ]
    },
    {
      "cell_type": "code",
      "execution_count": null,
      "id": "GGTBGknA3aTV",
      "metadata": {
        "colab": {
          "base_uri": "https://localhost:8080/",
          "height": 556
        },
        "id": "GGTBGknA3aTV",
        "outputId": "792994ff-bac0-4134-831f-2ff47c3fb67e"
      },
      "outputs": [
        {
          "output_type": "execute_result",
          "data": {
            "text/plain": [
              "    Disease Disease_Category                          Symptoms CommonAgeGroup  \\\n",
              "0  Diabetes  endocrinologist  Increased thirst, Blurred vision          Child   \n",
              "1  Diabetes  endocrinologist  Increased thirst, Blurred vision          Child   \n",
              "2  Diabetes  endocrinologist  Increased thirst, Blurred vision          Child   \n",
              "3  Diabetes  endocrinologist  Increased thirst, Blurred vision          Child   \n",
              "4  Diabetes  endocrinologist  Increased thirst, Blurred vision          Child   \n",
              "\n",
              "      Sex Severity       Specialist  \\\n",
              "0  Female   Severe  Endocrinologist   \n",
              "1  Female   Severe  Endocrinologist   \n",
              "2  Female   Severe  Endocrinologist   \n",
              "3  Female   Severe  Endocrinologist   \n",
              "4  Female   Severe  Endocrinologist   \n",
              "\n",
              "                                  SyntheticTreatment  \\\n",
              "0  Lifestyle changes, regular medication, and per...   \n",
              "1  Lifestyle changes, regular medication, and per...   \n",
              "2  Lifestyle changes, regular medication, and per...   \n",
              "3  Lifestyle changes, regular medication, and per...   \n",
              "4  Lifestyle changes, regular medication, and per...   \n",
              "\n",
              "                                                Name  \\\n",
              "0  Dr Arslan Shamim best diabetes stomach and liv...   \n",
              "1  Dr Syed Sibtain Ul Hassan (Internal Medicine S...   \n",
              "2                        Dr Muhammad Murtaza Shafqat   \n",
              "3                             Dr Awais Muhammad Butt   \n",
              "4                                   Dr Fahad Khawaja   \n",
              "\n",
              "                                        Category  \\\n",
              "0                                endocrinologist   \n",
              "1  internal medicine specialist, endocrinologist   \n",
              "2                                endocrinologist   \n",
              "3                                endocrinologist   \n",
              "4                                endocrinologist   \n",
              "\n",
              "                                     Address/Details    City  Rating  \\\n",
              "0  Doctor G8MV+X55 Ammar Medical Complex, Jail Rd...  Lahore     4.9   \n",
              "1            Hospital Ihsan mumtaz hospital, E BLOCK  Lahore     5.0   \n",
              "2              Endocrinologist Hameed Latif Hospital  Lahore     5.0   \n",
              "3  Endocrinologist Omar Hospital and Cardiac Cent...  Lahore     5.0   \n",
              "4    Endocrinologist Plot 411Block G Gulshan, e Ravi  Lahore     5.0   \n",
              "\n",
              "   Mapped_Category  \n",
              "0  endocrinologist  \n",
              "1  endocrinologist  \n",
              "2  endocrinologist  \n",
              "3  endocrinologist  \n",
              "4  endocrinologist  "
            ],
            "text/html": [
              "\n",
              "  <div id=\"df-5216a9b6-e6bd-4247-b505-4e30911213c6\" class=\"colab-df-container\">\n",
              "    <div>\n",
              "<style scoped>\n",
              "    .dataframe tbody tr th:only-of-type {\n",
              "        vertical-align: middle;\n",
              "    }\n",
              "\n",
              "    .dataframe tbody tr th {\n",
              "        vertical-align: top;\n",
              "    }\n",
              "\n",
              "    .dataframe thead th {\n",
              "        text-align: right;\n",
              "    }\n",
              "</style>\n",
              "<table border=\"1\" class=\"dataframe\">\n",
              "  <thead>\n",
              "    <tr style=\"text-align: right;\">\n",
              "      <th></th>\n",
              "      <th>Disease</th>\n",
              "      <th>Disease_Category</th>\n",
              "      <th>Symptoms</th>\n",
              "      <th>CommonAgeGroup</th>\n",
              "      <th>Sex</th>\n",
              "      <th>Severity</th>\n",
              "      <th>Specialist</th>\n",
              "      <th>SyntheticTreatment</th>\n",
              "      <th>Name</th>\n",
              "      <th>Category</th>\n",
              "      <th>Address/Details</th>\n",
              "      <th>City</th>\n",
              "      <th>Rating</th>\n",
              "      <th>Mapped_Category</th>\n",
              "    </tr>\n",
              "  </thead>\n",
              "  <tbody>\n",
              "    <tr>\n",
              "      <th>0</th>\n",
              "      <td>Diabetes</td>\n",
              "      <td>endocrinologist</td>\n",
              "      <td>Increased thirst, Blurred vision</td>\n",
              "      <td>Child</td>\n",
              "      <td>Female</td>\n",
              "      <td>Severe</td>\n",
              "      <td>Endocrinologist</td>\n",
              "      <td>Lifestyle changes, regular medication, and per...</td>\n",
              "      <td>Dr Arslan Shamim best diabetes stomach and liv...</td>\n",
              "      <td>endocrinologist</td>\n",
              "      <td>Doctor G8MV+X55 Ammar Medical Complex, Jail Rd...</td>\n",
              "      <td>Lahore</td>\n",
              "      <td>4.9</td>\n",
              "      <td>endocrinologist</td>\n",
              "    </tr>\n",
              "    <tr>\n",
              "      <th>1</th>\n",
              "      <td>Diabetes</td>\n",
              "      <td>endocrinologist</td>\n",
              "      <td>Increased thirst, Blurred vision</td>\n",
              "      <td>Child</td>\n",
              "      <td>Female</td>\n",
              "      <td>Severe</td>\n",
              "      <td>Endocrinologist</td>\n",
              "      <td>Lifestyle changes, regular medication, and per...</td>\n",
              "      <td>Dr Syed Sibtain Ul Hassan (Internal Medicine S...</td>\n",
              "      <td>internal medicine specialist, endocrinologist</td>\n",
              "      <td>Hospital Ihsan mumtaz hospital, E BLOCK</td>\n",
              "      <td>Lahore</td>\n",
              "      <td>5.0</td>\n",
              "      <td>endocrinologist</td>\n",
              "    </tr>\n",
              "    <tr>\n",
              "      <th>2</th>\n",
              "      <td>Diabetes</td>\n",
              "      <td>endocrinologist</td>\n",
              "      <td>Increased thirst, Blurred vision</td>\n",
              "      <td>Child</td>\n",
              "      <td>Female</td>\n",
              "      <td>Severe</td>\n",
              "      <td>Endocrinologist</td>\n",
              "      <td>Lifestyle changes, regular medication, and per...</td>\n",
              "      <td>Dr Muhammad Murtaza Shafqat</td>\n",
              "      <td>endocrinologist</td>\n",
              "      <td>Endocrinologist Hameed Latif Hospital</td>\n",
              "      <td>Lahore</td>\n",
              "      <td>5.0</td>\n",
              "      <td>endocrinologist</td>\n",
              "    </tr>\n",
              "    <tr>\n",
              "      <th>3</th>\n",
              "      <td>Diabetes</td>\n",
              "      <td>endocrinologist</td>\n",
              "      <td>Increased thirst, Blurred vision</td>\n",
              "      <td>Child</td>\n",
              "      <td>Female</td>\n",
              "      <td>Severe</td>\n",
              "      <td>Endocrinologist</td>\n",
              "      <td>Lifestyle changes, regular medication, and per...</td>\n",
              "      <td>Dr Awais Muhammad Butt</td>\n",
              "      <td>endocrinologist</td>\n",
              "      <td>Endocrinologist Omar Hospital and Cardiac Cent...</td>\n",
              "      <td>Lahore</td>\n",
              "      <td>5.0</td>\n",
              "      <td>endocrinologist</td>\n",
              "    </tr>\n",
              "    <tr>\n",
              "      <th>4</th>\n",
              "      <td>Diabetes</td>\n",
              "      <td>endocrinologist</td>\n",
              "      <td>Increased thirst, Blurred vision</td>\n",
              "      <td>Child</td>\n",
              "      <td>Female</td>\n",
              "      <td>Severe</td>\n",
              "      <td>Endocrinologist</td>\n",
              "      <td>Lifestyle changes, regular medication, and per...</td>\n",
              "      <td>Dr Fahad Khawaja</td>\n",
              "      <td>endocrinologist</td>\n",
              "      <td>Endocrinologist Plot 411Block G Gulshan, e Ravi</td>\n",
              "      <td>Lahore</td>\n",
              "      <td>5.0</td>\n",
              "      <td>endocrinologist</td>\n",
              "    </tr>\n",
              "  </tbody>\n",
              "</table>\n",
              "</div>\n",
              "    <div class=\"colab-df-buttons\">\n",
              "\n",
              "  <div class=\"colab-df-container\">\n",
              "    <button class=\"colab-df-convert\" onclick=\"convertToInteractive('df-5216a9b6-e6bd-4247-b505-4e30911213c6')\"\n",
              "            title=\"Convert this dataframe to an interactive table.\"\n",
              "            style=\"display:none;\">\n",
              "\n",
              "  <svg xmlns=\"http://www.w3.org/2000/svg\" height=\"24px\" viewBox=\"0 -960 960 960\">\n",
              "    <path d=\"M120-120v-720h720v720H120Zm60-500h600v-160H180v160Zm220 220h160v-160H400v160Zm0 220h160v-160H400v160ZM180-400h160v-160H180v160Zm440 0h160v-160H620v160ZM180-180h160v-160H180v160Zm440 0h160v-160H620v160Z\"/>\n",
              "  </svg>\n",
              "    </button>\n",
              "\n",
              "  <style>\n",
              "    .colab-df-container {\n",
              "      display:flex;\n",
              "      gap: 12px;\n",
              "    }\n",
              "\n",
              "    .colab-df-convert {\n",
              "      background-color: #E8F0FE;\n",
              "      border: none;\n",
              "      border-radius: 50%;\n",
              "      cursor: pointer;\n",
              "      display: none;\n",
              "      fill: #1967D2;\n",
              "      height: 32px;\n",
              "      padding: 0 0 0 0;\n",
              "      width: 32px;\n",
              "    }\n",
              "\n",
              "    .colab-df-convert:hover {\n",
              "      background-color: #E2EBFA;\n",
              "      box-shadow: 0px 1px 2px rgba(60, 64, 67, 0.3), 0px 1px 3px 1px rgba(60, 64, 67, 0.15);\n",
              "      fill: #174EA6;\n",
              "    }\n",
              "\n",
              "    .colab-df-buttons div {\n",
              "      margin-bottom: 4px;\n",
              "    }\n",
              "\n",
              "    [theme=dark] .colab-df-convert {\n",
              "      background-color: #3B4455;\n",
              "      fill: #D2E3FC;\n",
              "    }\n",
              "\n",
              "    [theme=dark] .colab-df-convert:hover {\n",
              "      background-color: #434B5C;\n",
              "      box-shadow: 0px 1px 3px 1px rgba(0, 0, 0, 0.15);\n",
              "      filter: drop-shadow(0px 1px 2px rgba(0, 0, 0, 0.3));\n",
              "      fill: #FFFFFF;\n",
              "    }\n",
              "  </style>\n",
              "\n",
              "    <script>\n",
              "      const buttonEl =\n",
              "        document.querySelector('#df-5216a9b6-e6bd-4247-b505-4e30911213c6 button.colab-df-convert');\n",
              "      buttonEl.style.display =\n",
              "        google.colab.kernel.accessAllowed ? 'block' : 'none';\n",
              "\n",
              "      async function convertToInteractive(key) {\n",
              "        const element = document.querySelector('#df-5216a9b6-e6bd-4247-b505-4e30911213c6');\n",
              "        const dataTable =\n",
              "          await google.colab.kernel.invokeFunction('convertToInteractive',\n",
              "                                                    [key], {});\n",
              "        if (!dataTable) return;\n",
              "\n",
              "        const docLinkHtml = 'Like what you see? Visit the ' +\n",
              "          '<a target=\"_blank\" href=https://colab.research.google.com/notebooks/data_table.ipynb>data table notebook</a>'\n",
              "          + ' to learn more about interactive tables.';\n",
              "        element.innerHTML = '';\n",
              "        dataTable['output_type'] = 'display_data';\n",
              "        await google.colab.output.renderOutput(dataTable, element);\n",
              "        const docLink = document.createElement('div');\n",
              "        docLink.innerHTML = docLinkHtml;\n",
              "        element.appendChild(docLink);\n",
              "      }\n",
              "    </script>\n",
              "  </div>\n",
              "\n",
              "\n",
              "    <div id=\"df-05f15c47-af88-4c8d-98e2-3d93d28c1a54\">\n",
              "      <button class=\"colab-df-quickchart\" onclick=\"quickchart('df-05f15c47-af88-4c8d-98e2-3d93d28c1a54')\"\n",
              "                title=\"Suggest charts\"\n",
              "                style=\"display:none;\">\n",
              "\n",
              "<svg xmlns=\"http://www.w3.org/2000/svg\" height=\"24px\"viewBox=\"0 0 24 24\"\n",
              "     width=\"24px\">\n",
              "    <g>\n",
              "        <path d=\"M19 3H5c-1.1 0-2 .9-2 2v14c0 1.1.9 2 2 2h14c1.1 0 2-.9 2-2V5c0-1.1-.9-2-2-2zM9 17H7v-7h2v7zm4 0h-2V7h2v10zm4 0h-2v-4h2v4z\"/>\n",
              "    </g>\n",
              "</svg>\n",
              "      </button>\n",
              "\n",
              "<style>\n",
              "  .colab-df-quickchart {\n",
              "      --bg-color: #E8F0FE;\n",
              "      --fill-color: #1967D2;\n",
              "      --hover-bg-color: #E2EBFA;\n",
              "      --hover-fill-color: #174EA6;\n",
              "      --disabled-fill-color: #AAA;\n",
              "      --disabled-bg-color: #DDD;\n",
              "  }\n",
              "\n",
              "  [theme=dark] .colab-df-quickchart {\n",
              "      --bg-color: #3B4455;\n",
              "      --fill-color: #D2E3FC;\n",
              "      --hover-bg-color: #434B5C;\n",
              "      --hover-fill-color: #FFFFFF;\n",
              "      --disabled-bg-color: #3B4455;\n",
              "      --disabled-fill-color: #666;\n",
              "  }\n",
              "\n",
              "  .colab-df-quickchart {\n",
              "    background-color: var(--bg-color);\n",
              "    border: none;\n",
              "    border-radius: 50%;\n",
              "    cursor: pointer;\n",
              "    display: none;\n",
              "    fill: var(--fill-color);\n",
              "    height: 32px;\n",
              "    padding: 0;\n",
              "    width: 32px;\n",
              "  }\n",
              "\n",
              "  .colab-df-quickchart:hover {\n",
              "    background-color: var(--hover-bg-color);\n",
              "    box-shadow: 0 1px 2px rgba(60, 64, 67, 0.3), 0 1px 3px 1px rgba(60, 64, 67, 0.15);\n",
              "    fill: var(--button-hover-fill-color);\n",
              "  }\n",
              "\n",
              "  .colab-df-quickchart-complete:disabled,\n",
              "  .colab-df-quickchart-complete:disabled:hover {\n",
              "    background-color: var(--disabled-bg-color);\n",
              "    fill: var(--disabled-fill-color);\n",
              "    box-shadow: none;\n",
              "  }\n",
              "\n",
              "  .colab-df-spinner {\n",
              "    border: 2px solid var(--fill-color);\n",
              "    border-color: transparent;\n",
              "    border-bottom-color: var(--fill-color);\n",
              "    animation:\n",
              "      spin 1s steps(1) infinite;\n",
              "  }\n",
              "\n",
              "  @keyframes spin {\n",
              "    0% {\n",
              "      border-color: transparent;\n",
              "      border-bottom-color: var(--fill-color);\n",
              "      border-left-color: var(--fill-color);\n",
              "    }\n",
              "    20% {\n",
              "      border-color: transparent;\n",
              "      border-left-color: var(--fill-color);\n",
              "      border-top-color: var(--fill-color);\n",
              "    }\n",
              "    30% {\n",
              "      border-color: transparent;\n",
              "      border-left-color: var(--fill-color);\n",
              "      border-top-color: var(--fill-color);\n",
              "      border-right-color: var(--fill-color);\n",
              "    }\n",
              "    40% {\n",
              "      border-color: transparent;\n",
              "      border-right-color: var(--fill-color);\n",
              "      border-top-color: var(--fill-color);\n",
              "    }\n",
              "    60% {\n",
              "      border-color: transparent;\n",
              "      border-right-color: var(--fill-color);\n",
              "    }\n",
              "    80% {\n",
              "      border-color: transparent;\n",
              "      border-right-color: var(--fill-color);\n",
              "      border-bottom-color: var(--fill-color);\n",
              "    }\n",
              "    90% {\n",
              "      border-color: transparent;\n",
              "      border-bottom-color: var(--fill-color);\n",
              "    }\n",
              "  }\n",
              "</style>\n",
              "\n",
              "      <script>\n",
              "        async function quickchart(key) {\n",
              "          const quickchartButtonEl =\n",
              "            document.querySelector('#' + key + ' button');\n",
              "          quickchartButtonEl.disabled = true;  // To prevent multiple clicks.\n",
              "          quickchartButtonEl.classList.add('colab-df-spinner');\n",
              "          try {\n",
              "            const charts = await google.colab.kernel.invokeFunction(\n",
              "                'suggestCharts', [key], {});\n",
              "          } catch (error) {\n",
              "            console.error('Error during call to suggestCharts:', error);\n",
              "          }\n",
              "          quickchartButtonEl.classList.remove('colab-df-spinner');\n",
              "          quickchartButtonEl.classList.add('colab-df-quickchart-complete');\n",
              "        }\n",
              "        (() => {\n",
              "          let quickchartButtonEl =\n",
              "            document.querySelector('#df-05f15c47-af88-4c8d-98e2-3d93d28c1a54 button');\n",
              "          quickchartButtonEl.style.display =\n",
              "            google.colab.kernel.accessAllowed ? 'block' : 'none';\n",
              "        })();\n",
              "      </script>\n",
              "    </div>\n",
              "\n",
              "    </div>\n",
              "  </div>\n"
            ],
            "application/vnd.google.colaboratory.intrinsic+json": {
              "type": "dataframe",
              "variable_name": "df"
            }
          },
          "metadata": {},
          "execution_count": 4
        }
      ],
      "source": [
        "import pandas as pd\n",
        "\n",
        "df = pd.read_csv('/content/drive/MyDrive/Colab Notebooks/merged_doctors_symptomss.csv')\n",
        "df.head()\n"
      ]
    },
    {
      "cell_type": "code",
      "execution_count": null,
      "id": "G5lpFy7inB4O",
      "metadata": {
        "colab": {
          "base_uri": "https://localhost:8080/"
        },
        "id": "G5lpFy7inB4O",
        "outputId": "83b25c05-ce56-4f3d-8c90-abf894c01abe"
      },
      "outputs": [
        {
          "output_type": "stream",
          "name": "stdout",
          "text": [
            "Dataset loaded successfully!\n",
            "Initial shape: (4338629, 14)\n"
          ]
        }
      ],
      "source": [
        "# ==================== Step 1.: Load Dataset ====================\n",
        "# Load the dataset into a pandas DataFrame\n",
        "\n",
        "df = pd.read_csv('/content/drive/MyDrive/Colab Notebooks/merged_doctors_symptomss.csv')\n",
        "print(\"Dataset loaded successfully!\")\n",
        "print(f\"Initial shape: {df.shape}\")"
      ]
    },
    {
      "cell_type": "markdown",
      "id": "2186739a",
      "metadata": {
        "id": "2186739a"
      },
      "source": [
        "# Step 2: Handle Missing Values\n",
        "What: Replace missing values with defaults like \"Unknown\" or 0.\n",
        "    \n",
        "Why: Missing data can mess with the analysis, so filling it prevents errors.\n",
        "    \n",
        "Why not any other: Dropping rows or columns with missing data could cause loss of important information."
      ]
    },
    {
      "cell_type": "code",
      "execution_count": null,
      "id": "19d922b5",
      "metadata": {
        "colab": {
          "base_uri": "https://localhost:8080/"
        },
        "id": "19d922b5",
        "outputId": "4bf2eae7-5a26-4467-e790-a8de1ee13b9b"
      },
      "outputs": [
        {
          "output_type": "stream",
          "name": "stdout",
          "text": [
            "Missing values handled.\n"
          ]
        },
        {
          "output_type": "stream",
          "name": "stderr",
          "text": [
            "<ipython-input-6-fdb12275fa2c>:6: FutureWarning: A value is trying to be set on a copy of a DataFrame or Series through chained assignment using an inplace method.\n",
            "The behavior will change in pandas 3.0. This inplace method will never work because the intermediate object on which we are setting values always behaves as a copy.\n",
            "\n",
            "For example, when doing 'df[col].method(value, inplace=True)', try using 'df.method({col: value}, inplace=True)' or df[col] = df[col].method(value) instead, to perform the operation inplace on the original object.\n",
            "\n",
            "\n",
            "  df['Rating'].fillna(0, inplace=True)\n"
          ]
        }
      ],
      "source": [
        "\n",
        "# ==================== Step 2: Handle Missing Values ====================\n",
        "# Replace missing values in important columns with default values\n",
        "\n",
        "\n",
        "df.fillna({'Disease': 'Unknown', 'Symptoms': 'Unknown'}, inplace=True)\n",
        "df['Rating'].fillna(0, inplace=True)\n",
        "print(\"Missing values handled.\")"
      ]
    },
    {
      "cell_type": "markdown",
      "id": "2f5bd0be",
      "metadata": {
        "id": "2f5bd0be"
      },
      "source": [
        "# Step3: Text Preprocessing\n",
        "What: Clean and prepare the text for modeling (convert to lowercase, remove punctuation, etc.).\n",
        "    \n",
        "Why: Preprocessing standardizes the text, making it easier for models to interpret.\n",
        "    \n",
        "Why not any other: More complex methods like stemming could be used, but lemmatization is more accurate for medical terms."
      ]
    },
    {
      "cell_type": "code",
      "execution_count": null,
      "id": "3ef80355",
      "metadata": {
        "id": "3ef80355"
      },
      "outputs": [],
      "source": [
        "\n",
        "# ==================== Step 3: Text Preprocessing ====================\n",
        "# Custom transformer class for text cleaning (lowercasing, punctuation removal, etc.)\n",
        "\n",
        "\n",
        "class TextPreprocessing(BaseEstimator, TransformerMixin):\n",
        "    def __init__(self):\n",
        "        self.lemmatizer = WordNetLemmatizer()\n",
        "        self.spell_checker = SpellChecker()\n",
        "        self.stop_words = set(stopwords.words('english'))\n",
        "        self.synonyms = {'fever': 'pyrexia', 'coughing': 'cough'}  # Example synonyms for medical terms\n",
        "\n",
        "    def fit(self, X, y=None):\n",
        "        return self  # No fitting needed, so return the object itself\n",
        "\n",
        "    def transform(self, X):\n",
        "        return [self.preprocess_text(text) for text in X]\n",
        "\n",
        "    def preprocess_text(self, text):\n",
        "        text = text.lower()  # Lowercasing\n",
        "        text = text.translate(str.maketrans('', '', string.punctuation))  # Punctuation removal\n",
        "        words = word_tokenize(text)  # Tokenize text\n",
        "        words = [word for word in words if word not in self.stop_words]  # Remove stopwords\n",
        "        words = [self.lemmatizer.lemmatize(word) for word in words]  # Lemmatization\n",
        "        words = [self.spell_checker.correction(word) for word in words]  # Spell correction\n",
        "        words = [self.synonyms.get(word, word) for word in words]  # Synonym handling\n",
        "        return ' '.join(words)  # Rejoin words into a clean string"
      ]
    },
    {
      "cell_type": "code",
      "execution_count": null,
      "id": "nWF6CkZA5ZB6",
      "metadata": {
        "colab": {
          "base_uri": "https://localhost:8080/"
        },
        "id": "nWF6CkZA5ZB6",
        "outputId": "f1a516af-1eac-44a3-ff10-dd262ff352da"
      },
      "outputs": [
        {
          "output_type": "stream",
          "name": "stderr",
          "text": [
            "[nltk_data] Downloading package stopwords to /root/nltk_data...\n",
            "[nltk_data]   Unzipping corpora/stopwords.zip.\n"
          ]
        },
        {
          "output_type": "execute_result",
          "data": {
            "text/plain": [
              "True"
            ]
          },
          "metadata": {},
          "execution_count": 8
        }
      ],
      "source": [
        "import nltk\n",
        "nltk.download('stopwords')"
      ]
    },
    {
      "cell_type": "code",
      "execution_count": null,
      "id": "gVUmketh5f3q",
      "metadata": {
        "colab": {
          "base_uri": "https://localhost:8080/"
        },
        "id": "gVUmketh5f3q",
        "outputId": "774c9736-5a9f-42e4-e1eb-8a6628aa1134"
      },
      "outputs": [
        {
          "output_type": "stream",
          "name": "stderr",
          "text": [
            "[nltk_data] Downloading package punkt to /root/nltk_data...\n",
            "[nltk_data]   Unzipping tokenizers/punkt.zip.\n",
            "[nltk_data] Downloading package wordnet to /root/nltk_data...\n",
            "[nltk_data] Downloading package omw-1.4 to /root/nltk_data...\n",
            "[nltk_data] Downloading package punkt_tab to /root/nltk_data...\n",
            "[nltk_data]   Unzipping tokenizers/punkt_tab.zip.\n"
          ]
        },
        {
          "output_type": "execute_result",
          "data": {
            "text/plain": [
              "True"
            ]
          },
          "metadata": {},
          "execution_count": 9
        }
      ],
      "source": [
        "nltk.download('punkt')\n",
        "nltk.download('wordnet')\n",
        "nltk.download('omw-1.4')\n",
        "nltk.download('punkt_tab')"
      ]
    },
    {
      "cell_type": "markdown",
      "id": "d6bfb812",
      "metadata": {
        "id": "d6bfb812"
      },
      "source": [
        "# Step 4: Apply Preprocessing Pipeline\n",
        "What: Apply the text cleaning steps to the 'Symptoms' and 'Disease' columns.\n",
        "    \n",
        "Why: This ensures all text data is cleaned and ready for modeling.\n",
        "    \n",
        "Why not any other: Other preprocessing methods could be used, but this pipeline is optimized for this specific dataset."
      ]
    },
    {
      "cell_type": "markdown",
      "id": "1794a887",
      "metadata": {
        "id": "1794a887"
      },
      "source": [
        "#"
      ]
    },
    {
      "cell_type": "code",
      "execution_count": null,
      "id": "76aaea7f",
      "metadata": {
        "colab": {
          "base_uri": "https://localhost:8080/"
        },
        "id": "76aaea7f",
        "outputId": "5caf71f2-f58a-44f0-d53f-9208117bf3cc"
      },
      "outputs": [
        {
          "output_type": "stream",
          "name": "stdout",
          "text": [
            "Text preprocessing applied to Symptoms and Disease columns.\n"
          ]
        }
      ],
      "source": [
        "# ==================== Step 4: Apply Preprocessing Pipeline ====================\n",
        "# Creating the pipeline and applying it to the relevant columns\n",
        "\n",
        "pipeline = Pipeline([('text_preprocessor', TextPreprocessing())])\n",
        "df['Symptoms'] = pipeline.fit_transform(df['Symptoms'])\n",
        "df['Disease'] = pipeline.fit_transform(df['Disease'])\n",
        "print(\"Text preprocessing applied to Symptoms and Disease columns.\")\n"
      ]
    },
    {
      "cell_type": "markdown",
      "id": "e0c545fd",
      "metadata": {
        "id": "e0c545fd"
      },
      "source": [
        "# Step 5: Remove Duplicates\n",
        "What: Remove identical rows from the dataset.\n",
        "    \n",
        "Why: Duplicates can bias the model and lead to overfitting.\n",
        "    \n",
        "Why not any other: We could de-duplicate based on certain columns, but removing all duplicates ensures data quality."
      ]
    },
    {
      "cell_type": "code",
      "execution_count": null,
      "id": "7969184b",
      "metadata": {
        "colab": {
          "base_uri": "https://localhost:8080/"
        },
        "id": "7969184b",
        "outputId": "fa08334d-bcdd-4a14-dc30-6d5205b81c54"
      },
      "outputs": [
        {
          "output_type": "stream",
          "name": "stdout",
          "text": [
            "Duplicates removed.\n",
            "Final shape: (4338629, 14)\n",
            "<class 'pandas.core.frame.DataFrame'>\n",
            "RangeIndex: 4338629 entries, 0 to 4338628\n",
            "Data columns (total 14 columns):\n",
            " #   Column              Dtype  \n",
            "---  ------              -----  \n",
            " 0   Disease             object \n",
            " 1   Disease_Category    object \n",
            " 2   Symptoms            object \n",
            " 3   CommonAgeGroup      object \n",
            " 4   Sex                 object \n",
            " 5   Severity            object \n",
            " 6   Specialist          object \n",
            " 7   SyntheticTreatment  object \n",
            " 8   Name                object \n",
            " 9   Category            object \n",
            " 10  Address/Details     object \n",
            " 11  City                object \n",
            " 12  Rating              float64\n",
            " 13  Mapped_Category     object \n",
            "dtypes: float64(1), object(13)\n",
            "memory usage: 463.4+ MB\n",
            "None\n"
          ]
        }
      ],
      "source": [
        "# ==================== Step 5: Remove Duplicates ====================\n",
        "# Drop duplicate rows\n",
        "df.drop_duplicates(inplace=True)\n",
        "print(\"Duplicates removed.\")\n",
        "\n",
        "\n",
        "# ==================== Final Output ====================\n",
        "# Check final dataset shape\n",
        "print(f\"Final shape: {df.shape}\")\n",
        "print(df.info())\n"
      ]
    },
    {
      "cell_type": "markdown",
      "id": "cd205232",
      "metadata": {
        "id": "cd205232"
      },
      "source": [
        "# Step 6: Save Cleaned Dataset to CSV"
      ]
    },
    {
      "cell_type": "code",
      "execution_count": null,
      "id": "d9500f41",
      "metadata": {
        "colab": {
          "base_uri": "https://localhost:8080/"
        },
        "id": "d9500f41",
        "outputId": "f0c64e0d-a89f-4b8d-a19b-aab0e3bc0716"
      },
      "outputs": [
        {
          "output_type": "stream",
          "name": "stdout",
          "text": [
            "    Disease Disease_Category                         Symptoms CommonAgeGroup  \\\n",
            "0  diabetes  endocrinologist  increased thirst blurred vision          Child   \n",
            "1  diabetes  endocrinologist  increased thirst blurred vision          Child   \n",
            "2  diabetes  endocrinologist  increased thirst blurred vision          Child   \n",
            "3  diabetes  endocrinologist  increased thirst blurred vision          Child   \n",
            "4  diabetes  endocrinologist  increased thirst blurred vision          Child   \n",
            "\n",
            "      Sex Severity       Specialist  \\\n",
            "0  Female   Severe  Endocrinologist   \n",
            "1  Female   Severe  Endocrinologist   \n",
            "2  Female   Severe  Endocrinologist   \n",
            "3  Female   Severe  Endocrinologist   \n",
            "4  Female   Severe  Endocrinologist   \n",
            "\n",
            "                                  SyntheticTreatment  \\\n",
            "0  Lifestyle changes, regular medication, and per...   \n",
            "1  Lifestyle changes, regular medication, and per...   \n",
            "2  Lifestyle changes, regular medication, and per...   \n",
            "3  Lifestyle changes, regular medication, and per...   \n",
            "4  Lifestyle changes, regular medication, and per...   \n",
            "\n",
            "                                                Name  \\\n",
            "0  Dr Arslan Shamim best diabetes stomach and liv...   \n",
            "1  Dr Syed Sibtain Ul Hassan (Internal Medicine S...   \n",
            "2                        Dr Muhammad Murtaza Shafqat   \n",
            "3                             Dr Awais Muhammad Butt   \n",
            "4                                   Dr Fahad Khawaja   \n",
            "\n",
            "                                        Category  \\\n",
            "0                                endocrinologist   \n",
            "1  internal medicine specialist, endocrinologist   \n",
            "2                                endocrinologist   \n",
            "3                                endocrinologist   \n",
            "4                                endocrinologist   \n",
            "\n",
            "                                     Address/Details    City  Rating  \\\n",
            "0  Doctor G8MV+X55 Ammar Medical Complex, Jail Rd...  Lahore     4.9   \n",
            "1            Hospital Ihsan mumtaz hospital, E BLOCK  Lahore     5.0   \n",
            "2              Endocrinologist Hameed Latif Hospital  Lahore     5.0   \n",
            "3  Endocrinologist Omar Hospital and Cardiac Cent...  Lahore     5.0   \n",
            "4    Endocrinologist Plot 411Block G Gulshan, e Ravi  Lahore     5.0   \n",
            "\n",
            "   Mapped_Category  \n",
            "0  endocrinologist  \n",
            "1  endocrinologist  \n",
            "2  endocrinologist  \n",
            "3  endocrinologist  \n",
            "4  endocrinologist  \n",
            "(4338629, 14)\n"
          ]
        }
      ],
      "source": [
        "# ==================== Step 6: Save Cleaned Dataset to CSV ====================\n",
        "\n",
        "# Save the cleaned dataset only in your Drive\n",
        "df.to_csv('/content/drive/MyDrive/Colab Notebooks/cleaned_merged_doctors_symptomss.csv', index=False)\n",
        "\n",
        "# Print head and shape\n",
        "print(df.head())\n",
        "print(df.shape)\n"
      ]
    }
  ],
  "metadata": {
    "accelerator": "GPU",
    "colab": {
      "gpuType": "T4",
      "provenance": []
    },
    "kernelspec": {
      "display_name": "Python 3",
      "name": "python3"
    },
    "language_info": {
      "codemirror_mode": {
        "name": "ipython",
        "version": 3
      },
      "file_extension": ".py",
      "mimetype": "text/x-python",
      "name": "python",
      "nbconvert_exporter": "python",
      "pygments_lexer": "ipython3",
      "version": "3.11.4"
    }
  },
  "nbformat": 4,
  "nbformat_minor": 5
}